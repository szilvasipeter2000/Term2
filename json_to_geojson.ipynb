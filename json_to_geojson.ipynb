{
 "cells": [
  {
   "cell_type": "code",
   "execution_count": 25,
   "id": "17a86523-a60e-43df-953c-8290d1e6f869",
   "metadata": {},
   "outputs": [],
   "source": [
    "import json\n",
    "\n",
    "def transform_json_to_geojson(json_data):\n",
    "    # Create GeoJSON feature collection\n",
    "    geojson_data = {\n",
    "        \"type\": \"FeatureCollection\",\n",
    "        \"features\": []\n",
    "    }\n",
    "\n",
    "    # Iterate through each observation in the JSON data\n",
    "    for feature in json_data:\n",
    "        # Extract coordinates and name from each observation\n",
    "        latitude = feature[\"reclat\"]\n",
    "        longitude = feature[\"reclong\"]\n",
    "        name = feature[\"name\"]\n",
    "        year = feature[\"year\"]\n",
    "\n",
    "        # Create GeoJSON feature for the observation\n",
    "        geojson_feature = {\n",
    "            \"type\": \"Feature\",\n",
    "            \"geometry\": {\n",
    "                \"type\": \"Point\",\n",
    "                \"coordinates\": [longitude, latitude]\n",
    "            },\n",
    "            \"properties\": {\n",
    "                \"name\": name\n",
    "            }\n",
    "        }\n",
    "\n",
    "        # Add feature to GeoJSON feature collection\n",
    "        geojson_data[\"features\"].append(geojson_feature)\n",
    "\n",
    "    return geojson_data\n",
    "\n",
    "# Read JSON data from file\n",
    "with open('meteornet.json', 'r', encoding='utf-8') as file:\n",
    "    json_data = json.load(file)\n",
    "\n",
    "# Transform JSON data to GeoJSON data\n",
    "geojson_data = transform_json_to_geojson(json_data)"
   ]
  },
  {
   "cell_type": "code",
   "execution_count": 26,
   "id": "6726af16-36c2-4771-a828-70e5c58e93cd",
   "metadata": {},
   "outputs": [],
   "source": [
    "output_file_path = 'meteornet.geojson'\n",
    "with open(output_file_path, 'w') as output_file:\n",
    "    json.dump(geojson_data, output_file, indent=2)"
   ]
  },
  {
   "cell_type": "code",
   "execution_count": null,
   "id": "bd245e1a-8aa1-4a79-99ab-871ebbf8c87f",
   "metadata": {},
   "outputs": [],
   "source": []
  }
 ],
 "metadata": {
  "kernelspec": {
   "display_name": "Python 3 (ipykernel)",
   "language": "python",
   "name": "python3"
  },
  "language_info": {
   "codemirror_mode": {
    "name": "ipython",
    "version": 3
   },
   "file_extension": ".py",
   "mimetype": "text/x-python",
   "name": "python",
   "nbconvert_exporter": "python",
   "pygments_lexer": "ipython3",
   "version": "3.11.4"
  }
 },
 "nbformat": 4,
 "nbformat_minor": 5
}
